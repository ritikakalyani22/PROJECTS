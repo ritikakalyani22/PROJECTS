{
 "cells": [
  {
   "cell_type": "code",
   "execution_count": 62,
   "id": "bb26232a",
   "metadata": {},
   "outputs": [],
   "source": [
    "import requests\n",
    "from bs4 import BeautifulSoup\n",
    "import pandas as pd\n",
    "import numpy as np\n",
    "import re"
   ]
  },
  {
   "cell_type": "code",
   "execution_count": 63,
   "id": "e9cea099",
   "metadata": {},
   "outputs": [],
   "source": [
    "url=\"https://www.flipkart.com/search?q=laptops&otracker=search&otracker1=search&marketplace=FLIPKART&as-show=on&as=off&as-pos=1&as-type=HISTORY&page=\""
   ]
  },
  {
   "cell_type": "code",
   "execution_count": 83,
   "id": "c3fc1682",
   "metadata": {},
   "outputs": [
    {
     "name": "stdout",
     "output_type": "stream",
     "text": [
      "https://www.flipkart.com/search?q=laptops&otracker=search&otracker1=search&marketplace=FLIPKART&as-show=on&as=off&as-pos=1&as-type=HISTORY&page=1\n",
      "https://www.flipkart.com/search?q=laptops&otracker=search&otracker1=search&marketplace=FLIPKART&as-show=on&as=off&as-pos=1&as-type=HISTORY&page=2\n",
      "https://www.flipkart.com/search?q=laptops&otracker=search&otracker1=search&marketplace=FLIPKART&as-show=on&as=off&as-pos=1&as-type=HISTORY&page=3\n",
      "https://www.flipkart.com/search?q=laptops&otracker=search&otracker1=search&marketplace=FLIPKART&as-show=on&as=off&as-pos=1&as-type=HISTORY&page=4\n",
      "https://www.flipkart.com/search?q=laptops&otracker=search&otracker1=search&marketplace=FLIPKART&as-show=on&as=off&as-pos=1&as-type=HISTORY&page=5\n",
      "https://www.flipkart.com/search?q=laptops&otracker=search&otracker1=search&marketplace=FLIPKART&as-show=on&as=off&as-pos=1&as-type=HISTORY&page=6\n",
      "https://www.flipkart.com/search?q=laptops&otracker=search&otracker1=search&marketplace=FLIPKART&as-show=on&as=off&as-pos=1&as-type=HISTORY&page=7\n",
      "https://www.flipkart.com/search?q=laptops&otracker=search&otracker1=search&marketplace=FLIPKART&as-show=on&as=off&as-pos=1&as-type=HISTORY&page=8\n",
      "https://www.flipkart.com/search?q=laptops&otracker=search&otracker1=search&marketplace=FLIPKART&as-show=on&as=off&as-pos=1&as-type=HISTORY&page=9\n",
      "https://www.flipkart.com/search?q=laptops&otracker=search&otracker1=search&marketplace=FLIPKART&as-show=on&as=off&as-pos=1&as-type=HISTORY&page=10\n",
      "https://www.flipkart.com/search?q=laptops&otracker=search&otracker1=search&marketplace=FLIPKART&as-show=on&as=off&as-pos=1&as-type=HISTORY&page=11\n",
      "https://www.flipkart.com/search?q=laptops&otracker=search&otracker1=search&marketplace=FLIPKART&as-show=on&as=off&as-pos=1&as-type=HISTORY&page=12\n",
      "https://www.flipkart.com/search?q=laptops&otracker=search&otracker1=search&marketplace=FLIPKART&as-show=on&as=off&as-pos=1&as-type=HISTORY&page=13\n",
      "https://www.flipkart.com/search?q=laptops&otracker=search&otracker1=search&marketplace=FLIPKART&as-show=on&as=off&as-pos=1&as-type=HISTORY&page=14\n",
      "https://www.flipkart.com/search?q=laptops&otracker=search&otracker1=search&marketplace=FLIPKART&as-show=on&as=off&as-pos=1&as-type=HISTORY&page=15\n",
      "https://www.flipkart.com/search?q=laptops&otracker=search&otracker1=search&marketplace=FLIPKART&as-show=on&as=off&as-pos=1&as-type=HISTORY&page=16\n",
      "https://www.flipkart.com/search?q=laptops&otracker=search&otracker1=search&marketplace=FLIPKART&as-show=on&as=off&as-pos=1&as-type=HISTORY&page=17\n",
      "https://www.flipkart.com/search?q=laptops&otracker=search&otracker1=search&marketplace=FLIPKART&as-show=on&as=off&as-pos=1&as-type=HISTORY&page=18\n"
     ]
    }
   ],
   "source": [
    "prices = []\n",
    "brands=[]\n",
    "Warranty=[]\n",
    "Processor=[]\n",
    "RAM=[]\n",
    "ROM=[]\n",
    "Display=[]\n",
    "os=[]\n",
    "r=[]\n",
    "names=[]\n",
    "for i in range(1,19):\n",
    "    urls = url+str(i)\n",
    "    print(urls)\n",
    "    page = requests.get(urls)\n",
    "    soup = BeautifulSoup(page.text)\n",
    "    \n",
    "    #prices\n",
    "\n",
    "    p = soup.find_all(\"div\",class_=\"_30jeq3 _1_WHN1\")\n",
    "    for i in p:\n",
    "        prices.append(i.text)\n",
    "\n",
    "    #brands\n",
    "\n",
    "    b=soup.find_all(\"div\",class_=\"_4rR01T\")\n",
    "    for i in b:\n",
    "        a=i.text\n",
    "        brands.append(a.split(\"-\")[0].split(\" \")[0])\n",
    "\n",
    "    #names\n",
    "\n",
    "    for i in b:\n",
    "        a=i.text\n",
    "        names.append(a.split(\"Core\")[0].split(\"Hexa\")[0].split(\"Dual\")[0].split(\"Quad\")[0].split(\"Octa\")[0].split(\"Ryzen 3\")[0].split(\"Ryzen 5\")[0].split(\"Ryzen 7\")[0].split(\"Ryzen 9\")[0].split(\"Celeron\")[0].split(\"Pentium\")[0].split(\"M1\")[0].split(\"M2\")[0].split(\"Snapdragon\")[0])\n",
    "\n",
    "    #warranty\n",
    "\n",
    "    c=soup.find_all(\"li\",class_=\"rgWa7D\")\n",
    "    for i in c:\n",
    "        a=re.findall(\"\\d+\\s\\w+\\s\\w+\\sWarranty|\\d+\\s\\w+\\sWarranty|\\d+\\s\\w+\\s\\w+�Warranty|\\d+\\s\\w+\\s\\w+\\s\\w+\\sWarranty|\\d+\\s\\w+\\sWarranty\\sTerm|\\d+\\s\\w+\\s\\w+\\swarranty|\\d+\\s\\w+\\s\\w+\\s\\w+\\s\\w+\\swarranty|\\d+\\s\\w+\\s\\w+-\\w+\\sWarranty|\\d+\\s\\w+\\s\\w+\\s\\w+\\sService|\\d+\\+\\d+\\s\\w+\\sWarranty|\\d+\\sYEAR|\\w+-\\w+\\s\\w+\\s\\w+\\sWarranty|\\d+\\s\\w+\\s\\w+\\sSupport|\\d+\\s\\w+\\smanufacturer\",str(i))\n",
    "        if(len(a)>0):\n",
    "            Warranty.append(a[0])\n",
    "\n",
    "    #processor\n",
    "\n",
    "    for i in c:\n",
    "        a=re.findall(\"\\w+\\s\\w+\\s\\w+\\d+\\sProcessor\\s\\\\(\\d+\\w+\\sGen\\\\)|AMD\\s\\w+\\s\\d+\\s\\w+\\s\\w+\\sProcessor|AMD\\s\\w+\\s\\w+\\sProcessor|\\w+\\s\\w+\\s\\w+\\s\\w+\\sProcessor\\s\\\\(\\d+\\w+\\sGen\\\\)|\\w+\\s\\w+\\s\\w+\\s\\w+\\sProcessor|\\w+\\s\\w+\\s\\w+\\sProcessor|Apple\\s\\w+\\sProcessor\",str(i))\n",
    "        if len(a)>0:\n",
    "            Processor.append(a[0])\n",
    "\n",
    "    #Ram\n",
    "\n",
    "    for i in c:\n",
    "        a=re.findall(\"\\d+\\sGB\\sDDR4|\\d+\\sGB\\sLPDDR4X|\\d+\\sGB\\sDDR5|\\d+\\sGB\\sDDR3|\\d+\\sGB\\sLPDDR4|\\d+\\sGB\\sLPDDR5|\\d+\\sGB\\sLPDDR3|\\d+\\sGB\\s\\w+\\s\\w+\\sRAM\",str(i))\n",
    "        if len(a)>0:\n",
    "            RAM.append(a[0])\n",
    "\n",
    "    #Rom\n",
    "\n",
    "    for i in c:\n",
    "        a=re.findall(\"\\d+\\sGB\\sSSD|\\d+\\sTB\\sHDD|\\d+\\sTB\\sSSD\",str(i))\n",
    "        if len(a)>0:\n",
    "            ROM.append(a[0])\n",
    "\n",
    "    #Display\n",
    "\n",
    "    for i in c:\n",
    "        a=re.findall(\"\\\\(\\d+\\sinch\\\\)|\\\\(\\d+.\\d+\\sinch\\\\)|\\\\(\\d+.\\d+\\smm\\\\)|\\\\(\\d+\\sInch\\\\)|\\\\(\\d+.\\d+\\sInch\\\\)|\\\\(\\d+\\scm\\\\)|\\\\(\\d+\\sinches\\\\)|\\\\(\\d+.\\d+\\sinches\\\\)\",str(i))\n",
    "        if(len(a)>0):\n",
    "            Display.append(a[0])\n",
    "\n",
    "    #os\n",
    "\n",
    "    for i in c:\n",
    "        a=re.findall(\"\\d+\\s\\w+\\s\\w+\\s\\d+\\sOperating\\sSystem|\\w+\\s\\d+\\sOperating\\sSystem|\\w+\\s\\w+\\sOperating\\sSystem|\\d+\\s\\w+\\s\\w+\\sOpearting\\sSystem|\\w+\\sOperating\\sSystem|\\d+\\s\\w+\\s\\w+\\sOperating\\sSystem\",str(i))\n",
    "        if(len(a)>0):\n",
    "            os.append(a[0].split(\"Operating\")[0])\n",
    "\n",
    "    #ratings\n",
    "    \n",
    "    d=soup.find_all(\"div\",class_=\"_3LWZlK\")\n",
    "    for i in d:\n",
    "        a=re.findall(\"\\d+.\\d+\",i.text)\n",
    "        if(len(a)>0):\n",
    "            r.append(a[0])"
   ]
  },
  {
   "cell_type": "code",
   "execution_count": 86,
   "id": "98c65c94",
   "metadata": {},
   "outputs": [
    {
     "data": {
      "text/plain": [
       "432"
      ]
     },
     "execution_count": 86,
     "metadata": {},
     "output_type": "execute_result"
    },
    {
     "data": {
      "text/plain": [
       "432"
      ]
     },
     "execution_count": 86,
     "metadata": {},
     "output_type": "execute_result"
    },
    {
     "data": {
      "text/plain": [
       "432"
      ]
     },
     "execution_count": 86,
     "metadata": {},
     "output_type": "execute_result"
    },
    {
     "data": {
      "text/plain": [
       "428"
      ]
     },
     "execution_count": 86,
     "metadata": {},
     "output_type": "execute_result"
    },
    {
     "data": {
      "text/plain": [
       "429"
      ]
     },
     "execution_count": 86,
     "metadata": {},
     "output_type": "execute_result"
    },
    {
     "data": {
      "text/plain": [
       "432"
      ]
     },
     "execution_count": 86,
     "metadata": {},
     "output_type": "execute_result"
    },
    {
     "data": {
      "text/plain": [
       "432"
      ]
     },
     "execution_count": 86,
     "metadata": {},
     "output_type": "execute_result"
    },
    {
     "data": {
      "text/plain": [
       "432"
      ]
     },
     "execution_count": 86,
     "metadata": {},
     "output_type": "execute_result"
    },
    {
     "data": {
      "text/plain": [
       "432"
      ]
     },
     "execution_count": 86,
     "metadata": {},
     "output_type": "execute_result"
    },
    {
     "data": {
      "text/plain": [
       "410"
      ]
     },
     "execution_count": 86,
     "metadata": {},
     "output_type": "execute_result"
    }
   ],
   "source": [
    "from IPython.core.interactiveshell import InteractiveShell\n",
    "InteractiveShell.ast_node_interactivity = 'all'\n",
    "\n",
    "len(brands)\n",
    "len(names)\n",
    "len(prices)\n",
    "len(Warranty)\n",
    "len(ROM)\n",
    "len(RAM)\n",
    "len(Processor)\n",
    "len(os)\n",
    "len(Display)\n",
    "len(r)"
   ]
  },
  {
   "cell_type": "code",
   "execution_count": 44,
   "id": "bc6d2fd4",
   "metadata": {},
   "outputs": [],
   "source": [
    "ROM.extend([np.nan,np.nan,np.nan,np.nan,np.nan,np.nan,np.nan,np.nan])\n"
   ]
  },
  {
   "cell_type": "code",
   "execution_count": 85,
   "id": "8d215486",
   "metadata": {},
   "outputs": [],
   "source": [
    "Warranty.extend([np.nan,np.nan,np.nan])"
   ]
  },
  {
   "cell_type": "code",
   "execution_count": 49,
   "id": "4de22a80",
   "metadata": {},
   "outputs": [],
   "source": [
    "r.append(np.nan)"
   ]
  },
  {
   "cell_type": "code",
   "execution_count": 47,
   "id": "10e35aca",
   "metadata": {},
   "outputs": [],
   "source": [
    "for i in range(1,13):\n",
    "    r.append(np.nan)"
   ]
  },
  {
   "cell_type": "code",
   "execution_count": 51,
   "id": "61130065",
   "metadata": {},
   "outputs": [],
   "source": [
    "df = pd.DataFrame({\n",
    "    \"Brands\":brands,\n",
    "    \"Models\":names,\n",
    "    \"Prices\":prices,\n",
    "    \"ROM\":ROM,\n",
    "    \"RAM\":RAM,\n",
    "    \"Size\":Display,\n",
    "    \"Processor\":Processor,\n",
    "    \"Operating System\":os,\n",
    "    \"Warranty\":Warranty,\n",
    "    \"Ratings\":r\n",
    "})"
   ]
  },
  {
   "cell_type": "code",
   "execution_count": 52,
   "id": "086d036c",
   "metadata": {},
   "outputs": [
    {
     "data": {
      "text/html": [
       "<div>\n",
       "<style scoped>\n",
       "    .dataframe tbody tr th:only-of-type {\n",
       "        vertical-align: middle;\n",
       "    }\n",
       "\n",
       "    .dataframe tbody tr th {\n",
       "        vertical-align: top;\n",
       "    }\n",
       "\n",
       "    .dataframe thead th {\n",
       "        text-align: right;\n",
       "    }\n",
       "</style>\n",
       "<table border=\"1\" class=\"dataframe\">\n",
       "  <thead>\n",
       "    <tr style=\"text-align: right;\">\n",
       "      <th></th>\n",
       "      <th>Brands</th>\n",
       "      <th>Models</th>\n",
       "      <th>Prices</th>\n",
       "      <th>ROM</th>\n",
       "      <th>RAM</th>\n",
       "      <th>Size</th>\n",
       "      <th>Processor</th>\n",
       "      <th>Operating System</th>\n",
       "      <th>Warranty</th>\n",
       "      <th>Ratings</th>\n",
       "    </tr>\n",
       "  </thead>\n",
       "  <tbody>\n",
       "    <tr>\n",
       "      <th>0</th>\n",
       "      <td>acer</td>\n",
       "      <td>acer Extensa 15</td>\n",
       "      <td>₹29,790</td>\n",
       "      <td>256 GB SSD</td>\n",
       "      <td>4 GB DDR4</td>\n",
       "      <td>(15.6 inch)</td>\n",
       "      <td>Intel Core i3 Processor (11th Gen)</td>\n",
       "      <td>64 bit Windows 11</td>\n",
       "      <td>1 Year International Travelers Warranty</td>\n",
       "      <td>[4.2]</td>\n",
       "    </tr>\n",
       "    <tr>\n",
       "      <th>1</th>\n",
       "      <td>Lenovo</td>\n",
       "      <td>Lenovo IdeaPad 1</td>\n",
       "      <td>₹19,990</td>\n",
       "      <td>256 GB SSD</td>\n",
       "      <td>4 GB DDR4</td>\n",
       "      <td>(11.6 Inch)</td>\n",
       "      <td>Intel Celeron Dual Core Processor</td>\n",
       "      <td>64 bit Windows 11</td>\n",
       "      <td>1 Year Onsite�Warranty</td>\n",
       "      <td>[3.4]</td>\n",
       "    </tr>\n",
       "    <tr>\n",
       "      <th>2</th>\n",
       "      <td>DELL</td>\n",
       "      <td>DELL</td>\n",
       "      <td>₹58,390</td>\n",
       "      <td>512 GB SSD</td>\n",
       "      <td>8 GB DDR4</td>\n",
       "      <td>(14 inch)</td>\n",
       "      <td>Intel Core i3 Processor (11th Gen)</td>\n",
       "      <td>64 bit Windows 11</td>\n",
       "      <td>1 Year Onsite Warranty</td>\n",
       "      <td>[4.3]</td>\n",
       "    </tr>\n",
       "    <tr>\n",
       "      <th>3</th>\n",
       "      <td>HP</td>\n",
       "      <td>HP</td>\n",
       "      <td>₹40,990</td>\n",
       "      <td>512 GB SSD</td>\n",
       "      <td>8 GB DDR4</td>\n",
       "      <td>(14 Inch)</td>\n",
       "      <td>Intel Core i3 Processor (11th Gen)</td>\n",
       "      <td>64 bit Windows 11</td>\n",
       "      <td>1 Year Onsite Warranty</td>\n",
       "      <td>[4.3]</td>\n",
       "    </tr>\n",
       "    <tr>\n",
       "      <th>4</th>\n",
       "      <td>HP</td>\n",
       "      <td>HP</td>\n",
       "      <td>₹36,990</td>\n",
       "      <td>256 GB SSD</td>\n",
       "      <td>8 GB DDR4</td>\n",
       "      <td>(14 inch)</td>\n",
       "      <td>Intel Core i3 Processor (11th Gen)</td>\n",
       "      <td>64 bit Windows 11</td>\n",
       "      <td>1 Year Onsite Warranty</td>\n",
       "      <td>[4.3]</td>\n",
       "    </tr>\n",
       "    <tr>\n",
       "      <th>...</th>\n",
       "      <td>...</td>\n",
       "      <td>...</td>\n",
       "      <td>...</td>\n",
       "      <td>...</td>\n",
       "      <td>...</td>\n",
       "      <td>...</td>\n",
       "      <td>...</td>\n",
       "      <td>...</td>\n",
       "      <td>...</td>\n",
       "      <td>...</td>\n",
       "    </tr>\n",
       "    <tr>\n",
       "      <th>427</th>\n",
       "      <td>acer</td>\n",
       "      <td>acer Aspire 5</td>\n",
       "      <td>₹50,990</td>\n",
       "      <td>NaN</td>\n",
       "      <td>8 GB DDR4</td>\n",
       "      <td>(15.6 Inch)</td>\n",
       "      <td>Intel Core i5 Processor (11th Gen)</td>\n",
       "      <td>64 bit Windows 11</td>\n",
       "      <td>NaN</td>\n",
       "      <td>NaN</td>\n",
       "    </tr>\n",
       "    <tr>\n",
       "      <th>428</th>\n",
       "      <td>ASUS</td>\n",
       "      <td>ASUS ZenBook 13</td>\n",
       "      <td>₹83,990</td>\n",
       "      <td>NaN</td>\n",
       "      <td>8 GB LPDDR3</td>\n",
       "      <td>(13.3 inch)</td>\n",
       "      <td>Intel Core i7 Processor (8th Gen)</td>\n",
       "      <td>64 bit Windows 10</td>\n",
       "      <td>NaN</td>\n",
       "      <td>NaN</td>\n",
       "    </tr>\n",
       "    <tr>\n",
       "      <th>429</th>\n",
       "      <td>Lenovo</td>\n",
       "      <td>Lenovo ThinkBook 13s</td>\n",
       "      <td>₹59,990</td>\n",
       "      <td>NaN</td>\n",
       "      <td>8 GB DDR4</td>\n",
       "      <td>(13 inch)</td>\n",
       "      <td>Intel Core i5 Processor (11th Gen)</td>\n",
       "      <td>64 bit Windows 10</td>\n",
       "      <td>NaN</td>\n",
       "      <td>NaN</td>\n",
       "    </tr>\n",
       "    <tr>\n",
       "      <th>430</th>\n",
       "      <td>ASUS</td>\n",
       "      <td>ASUS ROG Strix G15</td>\n",
       "      <td>₹82,990</td>\n",
       "      <td>NaN</td>\n",
       "      <td>8 GB DDR4</td>\n",
       "      <td>(15.6 inch)</td>\n",
       "      <td>Intel Core i5 Processor (10th Gen)</td>\n",
       "      <td>64 bit Windows 10</td>\n",
       "      <td>NaN</td>\n",
       "      <td>NaN</td>\n",
       "    </tr>\n",
       "    <tr>\n",
       "      <th>431</th>\n",
       "      <td>Lenovo</td>\n",
       "      <td>Lenovo Legion 5</td>\n",
       "      <td>₹1,33,999</td>\n",
       "      <td>NaN</td>\n",
       "      <td>16 GB DDR4</td>\n",
       "      <td>(15.6 inch)</td>\n",
       "      <td>Intel Core i7 Processor (11th Gen)</td>\n",
       "      <td>64 bit Windows 10</td>\n",
       "      <td>NaN</td>\n",
       "      <td>NaN</td>\n",
       "    </tr>\n",
       "  </tbody>\n",
       "</table>\n",
       "<p>432 rows × 10 columns</p>\n",
       "</div>"
      ],
      "text/plain": [
       "     Brands                 Models     Prices         ROM          RAM  \\\n",
       "0      acer       acer Extensa 15     ₹29,790  256 GB SSD    4 GB DDR4   \n",
       "1    Lenovo      Lenovo IdeaPad 1     ₹19,990  256 GB SSD    4 GB DDR4   \n",
       "2      DELL                  DELL     ₹58,390  512 GB SSD    8 GB DDR4   \n",
       "3        HP                    HP     ₹40,990  512 GB SSD    8 GB DDR4   \n",
       "4        HP                    HP     ₹36,990  256 GB SSD    8 GB DDR4   \n",
       "..      ...                    ...        ...         ...          ...   \n",
       "427    acer         acer Aspire 5     ₹50,990         NaN    8 GB DDR4   \n",
       "428    ASUS       ASUS ZenBook 13     ₹83,990         NaN  8 GB LPDDR3   \n",
       "429  Lenovo  Lenovo ThinkBook 13s     ₹59,990         NaN    8 GB DDR4   \n",
       "430    ASUS    ASUS ROG Strix G15     ₹82,990         NaN    8 GB DDR4   \n",
       "431  Lenovo       Lenovo Legion 5   ₹1,33,999         NaN   16 GB DDR4   \n",
       "\n",
       "            Size                           Processor    Operating System  \\\n",
       "0    (15.6 inch)  Intel Core i3 Processor (11th Gen)  64 bit Windows 11    \n",
       "1    (11.6 Inch)   Intel Celeron Dual Core Processor  64 bit Windows 11    \n",
       "2      (14 inch)  Intel Core i3 Processor (11th Gen)  64 bit Windows 11    \n",
       "3      (14 Inch)  Intel Core i3 Processor (11th Gen)  64 bit Windows 11    \n",
       "4      (14 inch)  Intel Core i3 Processor (11th Gen)  64 bit Windows 11    \n",
       "..           ...                                 ...                 ...   \n",
       "427  (15.6 Inch)  Intel Core i5 Processor (11th Gen)  64 bit Windows 11    \n",
       "428  (13.3 inch)   Intel Core i7 Processor (8th Gen)  64 bit Windows 10    \n",
       "429    (13 inch)  Intel Core i5 Processor (11th Gen)  64 bit Windows 10    \n",
       "430  (15.6 inch)  Intel Core i5 Processor (10th Gen)  64 bit Windows 10    \n",
       "431  (15.6 inch)  Intel Core i7 Processor (11th Gen)  64 bit Windows 10    \n",
       "\n",
       "                                    Warranty Ratings  \n",
       "0    1 Year International Travelers Warranty   [4.2]  \n",
       "1                     1 Year Onsite�Warranty   [3.4]  \n",
       "2                     1 Year Onsite Warranty   [4.3]  \n",
       "3                     1 Year Onsite Warranty   [4.3]  \n",
       "4                     1 Year Onsite Warranty   [4.3]  \n",
       "..                                       ...     ...  \n",
       "427                                      NaN     NaN  \n",
       "428                                      NaN     NaN  \n",
       "429                                      NaN     NaN  \n",
       "430                                      NaN     NaN  \n",
       "431                                      NaN     NaN  \n",
       "\n",
       "[432 rows x 10 columns]"
      ]
     },
     "execution_count": 52,
     "metadata": {},
     "output_type": "execute_result"
    }
   ],
   "source": [
    "df"
   ]
  },
  {
   "cell_type": "code",
   "execution_count": 53,
   "id": "d9937290",
   "metadata": {},
   "outputs": [],
   "source": [
    "df.to_csv(r\"C:\\Users\\ritika\\Desktop\\DATA SCIENCE\\Project\\finaldata.csv\")"
   ]
  },
  {
   "cell_type": "code",
   "execution_count": null,
   "id": "0d3504a4",
   "metadata": {},
   "outputs": [],
   "source": []
  }
 ],
 "metadata": {
  "kernelspec": {
   "display_name": "Python 3 (ipykernel)",
   "language": "python",
   "name": "python3"
  },
  "language_info": {
   "codemirror_mode": {
    "name": "ipython",
    "version": 3
   },
   "file_extension": ".py",
   "mimetype": "text/x-python",
   "name": "python",
   "nbconvert_exporter": "python",
   "pygments_lexer": "ipython3",
   "version": "3.9.12"
  }
 },
 "nbformat": 4,
 "nbformat_minor": 5
}
